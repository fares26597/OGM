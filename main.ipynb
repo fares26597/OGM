{
  "nbformat": 4,
  "nbformat_minor": 0,
  "metadata": {
    "colab": {
      "name": "main.ipynb",
      "provenance": [],
      "collapsed_sections": [],
      "toc_visible": true,
      "authorship_tag": "ABX9TyMwMapOXHGVePVp9X14lv+d",
      "include_colab_link": true
    },
    "kernelspec": {
      "name": "python3",
      "display_name": "Python 3"
    }
  },
  "cells": [
    {
      "cell_type": "markdown",
      "metadata": {
        "id": "view-in-github",
        "colab_type": "text"
      },
      "source": [
        "<a href=\"https://colab.research.google.com/github/fares26597/OGM/blob/master/main.ipynb\" target=\"_parent\"><img src=\"https://colab.research.google.com/assets/colab-badge.svg\" alt=\"Open In Colab\"/></a>"
      ]
    },
    {
      "cell_type": "code",
      "metadata": {
        "id": "td9vlRedz4wr",
        "colab_type": "code",
        "colab": {}
      },
      "source": [
        "import os\n",
        "import sys\n",
        "import inspect\n",
        "from tensorflow import lite"
      ],
      "execution_count": 86,
      "outputs": []
    },
    {
      "cell_type": "code",
      "metadata": {
        "id": "qLAQ1SbmHi43",
        "colab_type": "code",
        "colab": {
          "base_uri": "https://localhost:8080/",
          "height": 34
        },
        "outputId": "7887390e-41a4-4804-8da9-490f81594327"
      },
      "source": [
        "!catkin_make"
      ],
      "execution_count": 187,
      "outputs": [
        {
          "output_type": "stream",
          "text": [
            "/bin/bash: catkin_make: command not found\n"
          ],
          "name": "stdout"
        }
      ]
    },
    {
      "cell_type": "code",
      "metadata": {
        "id": "DkNqeCJ8jYQg",
        "colab_type": "code",
        "colab": {
          "base_uri": "https://localhost:8080/",
          "height": 435
        },
        "outputId": "60b93d04-b53a-4d5d-fe4c-b23c05f34700"
      },
      "source": [
        "import rospy\n",
        "import roslib\n",
        "from common_msg.nav_msgs.msg import Odometry\n",
        "from sensor_msgs.msg import LaserScan\n",
        "from std_msgs.msg import String\n",
        "from nav_msgs.msg import OccupancyGrid\n",
        "import tf\n",
        "import math\n",
        "from math import sin, cos, pi,tan, atan2\n",
        "import numpy as np\n",
        "from pylab import *\n",
        "from itertools import groupby\n",
        "from operator import itemgetter\n",
        "import matplotlib.pyplot as plt\n",
        "from scipy import interpolate\n",
        "\n",
        "from localmap import localmap\n",
        "pose=[0.0,0.0,0.0]\n",
        "#***********************************************************************\n",
        "def handle_robot_pose(parent, child, pose):\n",
        "    br = tf.TransformBroadcaster()\n",
        "    br.sendTransform((pose[0], pose[1], 0), tf.transformations.quaternion_from_euler(0, 0, pose[2]), rospy.Time.now(), child,parent)\n",
        "\n",
        "#***********************************************************************\n",
        "def odometryCb(msg):\n",
        "    global pose\n",
        "    x=msg.pose.pose.position.x\n",
        "    y=msg.pose.pose.position.y\n",
        "    q0 = msg.pose.pose.orientation.w\n",
        "    q1 = msg.pose.pose.orientation.x\n",
        "    q2 = msg.pose.pose.orientation.y\n",
        "    q3 = msg.pose.pose.orientation.z\n",
        "    theta=atan2(2*(q0*q3+q1*q2),1-2*(q2*q2+q3*q3))\n",
        "    pose=[x,y,theta]\n",
        "\n",
        "#*********************************************************************** \n",
        "def scanCb(msg):\n",
        "    print (pose)\n",
        "    py,px=[],[]\n",
        "    scandata=msg.ranges\n",
        "    angle_min=msg.angle_min\n",
        "    angle_max=msg.angle_max\n",
        "    angle_increment=msg.angle_increment\n",
        "    range_min=msg.range_min\n",
        "    range_max=msg.range_max \n",
        "    m.updatemap(scandata,angle_min,angle_max,angle_increment,range_min,range_max,pose)\n",
        "    handle_robot_pose(\"map\", \"odom\", pose)\n",
        "\n",
        "#***********************************************************************    \n",
        "def mappublisher(m,height, width, resolution,morigin):\n",
        "    msg = OccupancyGrid()\n",
        "    msg.header.frame_id='map'\n",
        "    msg.info.resolution = resolution\n",
        "    msg.info.width      = math.ceil(width/resolution)\n",
        "    msg.info.height     = math.ceil(height/resolution)\n",
        "    msg.info.origin.position.x=-morigin[0]\n",
        "    msg.info.origin.position.y=-morigin[1]\n",
        "    msg.data=m  \n",
        "    mappub.publish(msg)\n",
        "\n",
        "if __name__ == \"__main__\":\n",
        "\n",
        "    rospy.init_node('main', anonymous=True) #make node \n",
        "    rospy.Subscriber('/odom',Odometry,odometryCb)\n",
        "    rospy.Subscriber(\"/scan\", LaserScan, scanCb)\n",
        "    mappub= rospy.Publisher('/map',OccupancyGrid,queue_size=1)\n",
        "\n",
        "    rate = rospy.Rate(10) # 100hz   \n",
        "\n",
        "    height, width, resolution=10,10,0.05\n",
        "    morigin=[width/2.0,height/2.0]\n",
        "    m=localmap(height, width, resolution,morigin)\n",
        "\n",
        "    while not rospy.is_shutdown():\n",
        "        mappublisher(m.localmap,height, width, resolution,morigin)\n",
        "        rate.sleep()"
      ],
      "execution_count": 93,
      "outputs": [
        {
          "output_type": "error",
          "ename": "ModuleNotFoundError",
          "evalue": "ignored",
          "traceback": [
            "\u001b[0;31m---------------------------------------------------------------------------\u001b[0m",
            "\u001b[0;31mModuleNotFoundError\u001b[0m                       Traceback (most recent call last)",
            "\u001b[0;32m<ipython-input-93-3f91e5729edb>\u001b[0m in \u001b[0;36m<module>\u001b[0;34m()\u001b[0m\n\u001b[0;32m----> 1\u001b[0;31m \u001b[0;32mimport\u001b[0m \u001b[0mrospy\u001b[0m\u001b[0;34m\u001b[0m\u001b[0;34m\u001b[0m\u001b[0m\n\u001b[0m\u001b[1;32m      2\u001b[0m \u001b[0;32mimport\u001b[0m \u001b[0mroslib\u001b[0m\u001b[0;34m\u001b[0m\u001b[0;34m\u001b[0m\u001b[0m\n\u001b[1;32m      3\u001b[0m \u001b[0;32mfrom\u001b[0m \u001b[0mcommon_msg\u001b[0m\u001b[0;34m.\u001b[0m\u001b[0mnav_msgs\u001b[0m\u001b[0;34m.\u001b[0m\u001b[0mmsg\u001b[0m \u001b[0;32mimport\u001b[0m \u001b[0mOdometry\u001b[0m\u001b[0;34m\u001b[0m\u001b[0;34m\u001b[0m\u001b[0m\n\u001b[1;32m      4\u001b[0m \u001b[0;32mfrom\u001b[0m \u001b[0msensor_msgs\u001b[0m\u001b[0;34m.\u001b[0m\u001b[0mmsg\u001b[0m \u001b[0;32mimport\u001b[0m \u001b[0mLaserScan\u001b[0m\u001b[0;34m\u001b[0m\u001b[0;34m\u001b[0m\u001b[0m\n\u001b[1;32m      5\u001b[0m \u001b[0;32mfrom\u001b[0m \u001b[0mstd_msgs\u001b[0m\u001b[0;34m.\u001b[0m\u001b[0mmsg\u001b[0m \u001b[0;32mimport\u001b[0m \u001b[0mString\u001b[0m\u001b[0;34m\u001b[0m\u001b[0;34m\u001b[0m\u001b[0m\n",
            "\u001b[0;31mModuleNotFoundError\u001b[0m: No module named 'rospy'",
            "",
            "\u001b[0;31m---------------------------------------------------------------------------\u001b[0;32m\nNOTE: If your import is failing due to a missing package, you can\nmanually install dependencies using either !pip or !apt.\n\nTo view examples of installing some common dependencies, click the\n\"Open Examples\" button below.\n\u001b[0;31m---------------------------------------------------------------------------\u001b[0m\n"
          ]
        }
      ]
    }
  ]
}